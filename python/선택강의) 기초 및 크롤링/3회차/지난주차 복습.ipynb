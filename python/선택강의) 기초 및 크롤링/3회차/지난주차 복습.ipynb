{
 "cells": [
  {
   "cell_type": "code",
   "execution_count": null,
   "metadata": {},
   "outputs": [],
   "source": [
    "# 1. 라이브러리 불러오기\n",
    "# 2. 브라우저 열기  <- chromedriver.exe / chromedriver\n",
    "# 3. 웹 페이지 접속 <- browser.get(url)\n",
    "# 4. 내가 원하는 정보가 있는지 확인\n",
    "# 5. 정보가 있다면 -> browser.page_source 데이터 다운받기\n",
    "# 6. 수집하고자 하는 태그 찾기 --> BeatifulSoup, select( )\n",
    "#     soup.select('태그정보') --> 태그 정보에 해당하는 모든 태그 찾기\n",
    "#     soup.select('태그명') --> ex)soup.select('span') 해당 태그 모두 찾기\n",
    "#     soup.select('.class속성값') ex) soup.select('.presenter') \n",
    "#     soup.select('태그명.class속성값')\n",
    "#     soup.select('#id속성값') ex)soup.select('#weeks1')\n",
    "#     soup.select('상위태그정보(부모) > 하위태그정보(자식)') ex) soup.select('p>span')\n",
    "#     soup.select('상위태그정보 하위태그정보(자손)') 자식을 포함한 하위 태그\n",
    "#     soup.select('p > a > span') p태그 바로 아래의 a 태그 바로 아래의 span 태그 다 찾기\n",
    "#     soup.select(p span) p 태그 아래에 있는 span 태그 다 찾기\n",
    "# 7. 태그 --> 내가 원하는 값 선택\n",
    "#     tag.text : \"화면에 보이는 부분 / 태그 기호 앞뒤로 다 없앤 것\"\n",
    "#     tag['속석명'] : 태그에서 속성의 값 ex)tag['href'] <a href = \"www.naver.com\">자세히보기</a>\n",
    "# 8. 리스트 저장 : 리스트의 리스트 형태 --> 형 / 열 맞춤\n",
    "# 9. excel 저장\n",
    "#     import pandas as pd\n",
    "#     pd.DataFrame()\n",
    "#     .to_excel('파일명.xlsx')\n",
    " from selenium import wepdriver\n",
    "from bs4 import beautifulsoap"
   ]
  }
 ],
 "metadata": {
  "kernelspec": {
   "display_name": "Python 3",
   "language": "python",
   "name": "python3"
  },
  "language_info": {
   "codemirror_mode": {
    "name": "ipython",
    "version": 3
   },
   "file_extension": ".py",
   "mimetype": "text/x-python",
   "name": "python",
   "nbconvert_exporter": "python",
   "pygments_lexer": "ipython3",
   "version": "3.8.3"
  }
 },
 "nbformat": 4,
 "nbformat_minor": 4
}
