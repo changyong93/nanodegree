{
 "cells": [
  {
   "cell_type": "code",
   "execution_count": 7,
   "metadata": {},
   "outputs": [
    {
     "name": "stdout",
     "output_type": "stream",
     "text": [
      "14\n",
      "4\n",
      "45\n",
      "1.8\n",
      "1\n",
      "4\n"
     ]
    }
   ],
   "source": [
    "a = 9\n",
    "b = 5\n",
    "\n",
    "print (a + b) #더하기\n",
    "print (a - b) #빼기\n",
    "print (a * b) #곱하기\n",
    "print (a / b) #나누기\n",
    "\n",
    "print(a // b) #몫\n",
    "print(a % b) #나머지"
   ]
  },
  {
   "cell_type": "code",
   "execution_count": 8,
   "metadata": {},
   "outputs": [
    {
     "name": "stdout",
     "output_type": "stream",
     "text": [
      "3.14\n"
     ]
    }
   ],
   "source": [
    "pie = 3.14\n",
    "print(pie)"
   ]
  },
  {
   "cell_type": "code",
   "execution_count": 9,
   "metadata": {},
   "outputs": [
    {
     "name": "stdout",
     "output_type": "stream",
     "text": [
      "산토끼\n",
      "토끼산\n"
     ]
    }
   ],
   "source": [
    "s1 = '산'\n",
    "s2 = '토끼'\n",
    "print(s1 + s2)\n",
    "print(s2 + s1)"
   ]
  },
  {
   "cell_type": "code",
   "execution_count": 12,
   "metadata": {},
   "outputs": [
    {
     "name": "stdout",
     "output_type": "stream",
     "text": [
      "*****\n"
     ]
    }
   ],
   "source": [
    "s3 = '*'\n",
    "print(s3+s3+s3+s3+s3)"
   ]
  },
  {
   "cell_type": "code",
   "execution_count": 14,
   "metadata": {},
   "outputs": [
    {
     "ename": "TypeError",
     "evalue": "unsupported operand type(s) for +: 'int' and 'str'",
     "output_type": "error",
     "traceback": [
      "\u001b[1;31m---------------------------------------------------------------------------\u001b[0m",
      "\u001b[1;31mTypeError\u001b[0m                                 Traceback (most recent call last)",
      "\u001b[1;32m<ipython-input-14-2582f9542bcf>\u001b[0m in \u001b[0;36m<module>\u001b[1;34m\u001b[0m\n\u001b[0;32m      1\u001b[0m \u001b[0mn1\u001b[0m \u001b[1;33m=\u001b[0m \u001b[1;36m111\u001b[0m\u001b[1;33m\u001b[0m\u001b[1;33m\u001b[0m\u001b[0m\n\u001b[0;32m      2\u001b[0m \u001b[0mn2\u001b[0m \u001b[1;33m=\u001b[0m \u001b[1;34m\"999\"\u001b[0m\u001b[1;33m\u001b[0m\u001b[1;33m\u001b[0m\u001b[0m\n\u001b[1;32m----> 3\u001b[1;33m \u001b[0mprint\u001b[0m\u001b[1;33m(\u001b[0m\u001b[0mn1\u001b[0m \u001b[1;33m+\u001b[0m \u001b[0mn2\u001b[0m\u001b[1;33m)\u001b[0m\u001b[1;33m\u001b[0m\u001b[1;33m\u001b[0m\u001b[0m\n\u001b[0m",
      "\u001b[1;31mTypeError\u001b[0m: unsupported operand type(s) for +: 'int' and 'str'"
     ]
    }
   ],
   "source": [
    "n1 = 111\n",
    "n2 = \"999\"\n",
    "print(n1 + n2)"
   ]
  },
  {
   "cell_type": "code",
   "execution_count": 15,
   "metadata": {},
   "outputs": [
    {
     "name": "stdout",
     "output_type": "stream",
     "text": [
      "<class 'int'>\n",
      "<class 'str'>\n"
     ]
    }
   ],
   "source": [
    "n1 = 111\n",
    "n2 = \"999\"\n",
    "print(type(n1))\n",
    "print(type(n2))"
   ]
  },
  {
   "cell_type": "markdown",
   "metadata": {},
   "source": [
    "# 데이터를 그룹으로 만들기\n"
   ]
  },
  {
   "cell_type": "markdown",
   "metadata": {},
   "source": [
    "# 리스트"
   ]
  },
  {
   "cell_type": "code",
   "execution_count": 17,
   "metadata": {},
   "outputs": [
    {
     "name": "stdout",
     "output_type": "stream",
     "text": [
      "['빨강', '노랑', '파랑']\n"
     ]
    }
   ],
   "source": [
    "#color_list = [원소1, 원소2, 원소3,....]\n",
    "color_list = ['빨강','노랑','파랑']\n",
    "print(color_list)"
   ]
  },
  {
   "cell_type": "code",
   "execution_count": 26,
   "metadata": {},
   "outputs": [
    {
     "name": "stdout",
     "output_type": "stream",
     "text": [
      "빨강\n",
      "파랑\n"
     ]
    }
   ],
   "source": [
    "# color_list 안에서\n",
    "#첫 번째 꺼는 화장실 색상으로,\n",
    "#두 번째 꺼는 안방 색상으로\n",
    "#index는 좌측기준 0,1,2,3,... / 우측기준 -1,-2,-3,...\n",
    "color_list = ['빨강','노랑','파랑']\n",
    "print(color_list[0])\n",
    "print(color_list[len(color_list)-1])"
   ]
  },
  {
   "cell_type": "code",
   "execution_count": 27,
   "metadata": {},
   "outputs": [
    {
     "name": "stdout",
     "output_type": "stream",
     "text": [
      "노랑\n",
      "노랑\n"
     ]
    }
   ],
   "source": [
    "color_list = ['빨강','노랑','파랑', '초록']\n",
    "print(color_list[1])\n",
    "print(color_list[-3])"
   ]
  },
  {
   "cell_type": "code",
   "execution_count": 30,
   "metadata": {},
   "outputs": [
    {
     "name": "stdout",
     "output_type": "stream",
     "text": [
      "['노랑', '파랑', '초록']\n"
     ]
    }
   ],
   "source": [
    "# :  -> 어디부터 어디까지... 구간\n",
    "# () -> 명령어() 명령어 실행\n",
    "# [] -> 변수[], 변수에서 특정 부분 선택\n",
    "# {} -> dictionary\n",
    "color_list = ['빨강','노랑','파랑', '초록']\n",
    "print(color_list[1:3]) #시작번호 포함 / 끝번호 미포함"
   ]
  },
  {
   "cell_type": "code",
   "execution_count": 31,
   "metadata": {},
   "outputs": [
    {
     "name": "stdout",
     "output_type": "stream",
     "text": [
      "['류승범', '이병헌', '김태리']\n"
     ]
    }
   ],
   "source": [
    "movie_star = [\"류승범\",'이병헌','김태리']\n",
    "print(movie_star)"
   ]
  },
  {
   "cell_type": "code",
   "execution_count": 93,
   "metadata": {},
   "outputs": [
    {
     "name": "stdout",
     "output_type": "stream",
     "text": [
      "['류승범', '이병헌', '김태리', '송강호', '송강호', '송강호', '송강호', '송강호', '송강호', '송강호', '송강호', '송강호', '송강호', '송강호', '송강호', '송강호', '송강호', '송강호', '송강호', '송강호', '송강호']\n"
     ]
    }
   ],
   "source": [
    "#송강호 추가\n",
    "movie_star.append('송강호')\n",
    "print(movie_star)"
   ]
  },
  {
   "cell_type": "code",
   "execution_count": 122,
   "metadata": {},
   "outputs": [
    {
     "name": "stdout",
     "output_type": "stream",
     "text": [
      "['책제목', '책가격', '책출판사']\n"
     ]
    }
   ],
   "source": [
    "# best_seller_list = [\n",
    "#     ['책제목','책가격','책출판사'],\n",
    "#     ['책제목','책가격','책출판사'],\n",
    "#     ['책제목','책가격','책출판사'],\n",
    "#     ['책제목','책가격','책출판사'],\n",
    "# ]\n",
    "\n",
    "best_seller_list = []\n",
    "book_data = ['책제목','책가격','책출판사']\n",
    "best_seller_list.append(book_data)\n",
    "print(book_data)"
   ]
  },
  {
   "cell_type": "code",
   "execution_count": 87,
   "metadata": {},
   "outputs": [
    {
     "name": "stdout",
     "output_type": "stream",
     "text": [
      "['책제목', '책가격', '책출판사']\n"
     ]
    }
   ],
   "source": [
    "best_seller_list.append(book_data)\n",
    "print(book_data)"
   ]
  },
  {
   "cell_type": "code",
   "execution_count": 127,
   "metadata": {},
   "outputs": [
    {
     "name": "stdout",
     "output_type": "stream",
     "text": [
      "홍길동\n",
      "dict_keys(['일자', '이름', '전화번호'])\n",
      "dict_values(['2020-01-01', '홍길동', '010-9302-9265'])\n"
     ]
    }
   ],
   "source": [
    "#dictionary type data\n",
    "#data = { key : value}\n",
    "data = {\n",
    "    '일자' : '2020-01-01',\n",
    "    '이름' : '홍길동',\n",
    "    '전화번호' : '010-9302-9265',\n",
    "}\n",
    "print(data['이름'])\n",
    "print(data.keys())\n",
    "print(data.values())"
   ]
  }
 ],
 "metadata": {
  "kernelspec": {
   "display_name": "Python 3",
   "language": "python",
   "name": "python3"
  },
  "language_info": {
   "codemirror_mode": {
    "name": "ipython",
    "version": 3
   },
   "file_extension": ".py",
   "mimetype": "text/x-python",
   "name": "python",
   "nbconvert_exporter": "python",
   "pygments_lexer": "ipython3",
   "version": "3.8.3"
  }
 },
 "nbformat": 4,
 "nbformat_minor": 4
}
