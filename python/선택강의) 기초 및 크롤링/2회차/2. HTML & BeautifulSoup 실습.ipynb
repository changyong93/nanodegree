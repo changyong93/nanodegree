{
 "cells": [
  {
   "cell_type": "code",
   "execution_count": null,
   "metadata": {},
   "outputs": [],
   "source": [
    "#HTML 특징\n",
    "<태그명> </태그명> #태그 시작 ~ 태그 끝\n",
    "<태그명 속성 = 값> </태그명>, 속성 들어갈 수 있음\n",
    "<태그명 속성 = 값 속성=값 속성=값> </태그명>, 속성 여러개 들어갈 수 있음\n",
    "\n",
    "<태그 1>\n",
    "    <태그 2> </태그2> #하위 태그 = 자식 태그\n",
    "    <태그 3>\n",
    "        <태그4></태그4>\n",
    "    </태그 3>\n",
    "</태그 1>\n",
    "\n",
    "<태그> 고창용 </태그> # --> 화면에는 \"고창용\"\n",
    "#컴퓨터에게 고창용을 찾아달라고 할 경우, 고창용이 아니라 태그를 찾아달라고 해야 함\n",
    "\n",
    "<span class = 'name'> 고창용 </span> #태그명이 span인 것 찾기\n",
    "\n",
    "# span이 많을 경우 상위or하위 태크까지 같이 찾기 => 원하는 정보를 찾을 때 까지 태그 계속 지정\n",
    "<p>\n",
    "    <span class = 'name'> 고창용 </span> #상위 태그가 p이고 하위 태그가 span이고 속성 및 값이 class ='name'인 것 찾기\n",
    "</p>\n",
    "\n"
   ]
  },
  {
   "cell_type": "code",
   "execution_count": 10,
   "metadata": {},
   "outputs": [
    {
     "name": "stdout",
     "output_type": "stream",
     "text": [
      "\n",
      "안녕하세요\n",
      "반갑습니다.\n",
      "\n"
     ]
    }
   ],
   "source": [
    "#예시) 러닝스푼즈 데이터분석입문 강의 \n",
    "#'''예시\n",
    "say ='''\n",
    "안녕하세요\n",
    "반갑습니다.\n",
    "'''\n",
    "print(say)\n",
    "\n",
    "html = ''' \n",
    "<h1> HTML예시 </h1>\n",
    "    <span> 파이썬 입문부터 시작하는 데이터 분석 마스터</span>\n",
    "    <p id=\"weeks1\" class=\"seminar\" title=\"first\"> 1주차\n",
    "        <span class = \"title\"> 파이썬 맛보기 </span>\n",
    "        <span class = \"presenter\"> 장남수 </span>\n",
    "        <span class = \"date\"> 1월1일 </span>\n",
    "        <span class = \"point\"> 파이썬 설치 사전 안내 </span>\n",
    "        <a href = \"https://kiddwannabe.blog.me/221154599192\">네이버 블로그-아나콘다설치</a>\n",
    "    </p>\n",
    "    <p id=\"weeks2\" class=\"seminar\" title=\"second\"> 2주차\n",
    "        <span class = \"title\"> 크롤링 해보기 </span>\n",
    "        <span class = \"presenter\"> 장남수 </span>\n",
    "        <span class = \"date\"> 1월2일 </span>\n",
    "        <span class = \"point\"> selenium / html </span>\n",
    "        <a href = \"https://kiddwannabe.blog.me/221177292446\">네이버 블로그-크롤링</a>\n",
    "    </p>\n",
    "    <p id=\"weeks3\" class=\"seminar\" title=\"third\"> 3주차\n",
    "        <span class = \"title\"> 크롤링 실습 </span>\n",
    "        <span class = \"presenter\"> 장남수 </span>\n",
    "        <span class = \"date\"> 1월3일 </span>\n",
    "        <span class = \"point\"> 노래순위, 베스트셀러 </span>\n",
    "        <a href = \"https://kiddwannabe.blog.me/\">네이버 블로그</a>\n",
    "    </p>\n",
    "    <p id=\"weeks4\" class=\"seminar\" title=\"fourth\"> 4주차\n",
    "        <span class = \"title\"> 판다스 살펴보기 </span>\n",
    "        <span class = \"presenter\"> 장남수 </span>\n",
    "        <span class = \"date\"> 1월4일 </span>\n",
    "        <span class = \"point\"> pandas </span>\n",
    "        <a href = \"https://kiddwannabe.blog.me/\">네이버 블로그</a>\n",
    "    </p>\n",
    "    <p id=\"weeks5\" class=\"seminar\" title=\"fifth\"> 5주차\n",
    "        <span class = \"title\"> 상가 업력 분석하기 </span>\n",
    "        <span class = \"presenter\"> 장남수 </span>\n",
    "        <span class = \"date\"> 1월5일 </span>\n",
    "        <span class = \"point\"> 공공데이터 분석 </span>\n",
    "        <a href = \"https://kiddwannabe.blog.me/\">네이버 블로그</a>\n",
    "    </p>            \n",
    "    <p id=\"weeks6\" class=\"seminar\" title=\"sixth\"> 6주차\n",
    "        <span class = \"title\"> 데이터 시각화 </span>\n",
    "        <span class = \"presenter\"> 장남수 </span>\n",
    "        <span class = \"date\"> 1월6일 </span>\n",
    "        <span class = \"point\"> seaborn </span>\n",
    "        <a href = \"https://kiddwannabe.blog.me/221728411362\">네이버 블로그-seaborn</a>\n",
    "    </p>  \n",
    "    <p id=\"weeks7\" class=\"seminar\" title=\"seventh\"> 7주차\n",
    "        <span class = \"title\"> 네이버 쇼핑몰 수집/분석 </span>\n",
    "        <span class = \"presenter\"> 장남수 </span>\n",
    "        <span class = \"date\"> 1월7일 </span>\n",
    "        <span class = \"point\"> youtube </span>\n",
    "        <a href = \"https://kiddwannabe.blog.me/\">네이버 블로그</a>\n",
    "    </p> \n",
    "</h1>\n",
    "'''\n"
   ]
  },
  {
   "cell_type": "code",
   "execution_count": 11,
   "metadata": {},
   "outputs": [
    {
     "data": {
      "text/plain": [
       "' \\n<h1> HTML예시 </h1>\\n    <span> 파이썬 입문부터 시작하는 데이터 분석 마스터</span>\\n    <p id=\"weeks1\" class=\"seminar\" title=\"first\"> 1주차\\n        <span class = \"title\"> 파이썬 맛보기 </span>\\n        <span class = \"presenter\"> 장남수 </span>\\n        <span class = \"date\"> 1월1일 </span>\\n        <span class = \"point\"> 파이썬 설치 사전 안내 </span>\\n        <a href = \"https://kiddwannabe.blog.me/221154599192\">네이버 블로그-아나콘다설치</a>\\n    </p>\\n    <p id=\"weeks2\" class=\"seminar\" title=\"second\"> 2주차\\n        <span class = \"title\"> 크롤링 해보기 </span>\\n        <span class = \"presenter\"> 장남수 </span>\\n        <span class = \"date\"> 1월2일 </span>\\n        <span class = \"point\"> selenium / html </span>\\n        <a href = \"https://kiddwannabe.blog.me/221177292446\">네이버 블로그-크롤링</a>\\n    </p>\\n    <p id=\"weeks3\" class=\"seminar\" title=\"third\"> 3주차\\n        <span class = \"title\"> 크롤링 실습 </span>\\n        <span class = \"presenter\"> 장남수 </span>\\n        <span class = \"date\"> 1월3일 </span>\\n        <span class = \"point\"> 노래순위, 베스트셀러 </span>\\n        <a href = \"https://kiddwannabe.blog.me/\">네이버 블로그</a>\\n    </p>\\n    <p id=\"weeks4\" class=\"seminar\" title=\"fourth\"> 4주차\\n        <span class = \"title\"> 판다스 살펴보기 </span>\\n        <span class = \"presenter\"> 장남수 </span>\\n        <span class = \"date\"> 1월4일 </span>\\n        <span class = \"point\"> pandas </span>\\n        <a href = \"https://kiddwannabe.blog.me/\">네이버 블로그</a>\\n    </p>\\n    <p id=\"weeks5\" class=\"seminar\" title=\"fifth\"> 5주차\\n        <span class = \"title\"> 상가 업력 분석하기 </span>\\n        <span class = \"presenter\"> 장남수 </span>\\n        <span class = \"date\"> 1월5일 </span>\\n        <span class = \"point\"> 공공데이터 분석 </span>\\n        <a href = \"https://kiddwannabe.blog.me/\">네이버 블로그</a>\\n    </p>            \\n    <p id=\"weeks6\" class=\"seminar\" title=\"sixth\"> 6주차\\n        <span class = \"title\"> 데이터 시각화 </span>\\n        <span class = \"presenter\"> 장남수 </span>\\n        <span class = \"date\"> 1월6일 </span>\\n        <span class = \"point\"> seaborn </span>\\n        <a href = \"https://kiddwannabe.blog.me/221728411362\">네이버 블로그-seaborn</a>\\n    </p>  \\n    <p id=\"weeks7\" class=\"seminar\" title=\"seventh\"> 7주차\\n        <span class = \"title\"> 네이버 쇼핑몰 수집/분석 </span>\\n        <span class = \"presenter\"> 장남수 </span>\\n        <span class = \"date\"> 1월7일 </span>\\n        <span class = \"point\"> youtube </span>\\n        <a href = \"https://kiddwannabe.blog.me/\">네이버 블로그</a>\\n    </p> \\n</h1>\\n'"
      ]
     },
     "execution_count": 11,
     "metadata": {},
     "output_type": "execute_result"
    }
   ],
   "source": [
    "html"
   ]
  },
  {
   "cell_type": "code",
   "execution_count": 13,
   "metadata": {},
   "outputs": [],
   "source": [
    "from bs4 import BeautifulSoup"
   ]
  },
  {
   "cell_type": "code",
   "execution_count": 14,
   "metadata": {},
   "outputs": [
    {
     "data": {
      "text/plain": [
       "\n",
       "<h1> HTML예시 </h1>\n",
       "<span> 파이썬 입문부터 시작하는 데이터 분석 마스터</span>\n",
       "<p class=\"seminar\" id=\"weeks1\" title=\"first\"> 1주차\n",
       "        <span class=\"title\"> 파이썬 맛보기 </span>\n",
       "<span class=\"presenter\"> 장남수 </span>\n",
       "<span class=\"date\"> 1월1일 </span>\n",
       "<span class=\"point\"> 파이썬 설치 사전 안내 </span>\n",
       "<a href=\"https://kiddwannabe.blog.me/221154599192\">네이버 블로그-아나콘다설치</a>\n",
       "</p>\n",
       "<p class=\"seminar\" id=\"weeks2\" title=\"second\"> 2주차\n",
       "        <span class=\"title\"> 크롤링 해보기 </span>\n",
       "<span class=\"presenter\"> 장남수 </span>\n",
       "<span class=\"date\"> 1월2일 </span>\n",
       "<span class=\"point\"> selenium / html </span>\n",
       "<a href=\"https://kiddwannabe.blog.me/221177292446\">네이버 블로그-크롤링</a>\n",
       "</p>\n",
       "<p class=\"seminar\" id=\"weeks3\" title=\"third\"> 3주차\n",
       "        <span class=\"title\"> 크롤링 실습 </span>\n",
       "<span class=\"presenter\"> 장남수 </span>\n",
       "<span class=\"date\"> 1월3일 </span>\n",
       "<span class=\"point\"> 노래순위, 베스트셀러 </span>\n",
       "<a href=\"https://kiddwannabe.blog.me/\">네이버 블로그</a>\n",
       "</p>\n",
       "<p class=\"seminar\" id=\"weeks4\" title=\"fourth\"> 4주차\n",
       "        <span class=\"title\"> 판다스 살펴보기 </span>\n",
       "<span class=\"presenter\"> 장남수 </span>\n",
       "<span class=\"date\"> 1월4일 </span>\n",
       "<span class=\"point\"> pandas </span>\n",
       "<a href=\"https://kiddwannabe.blog.me/\">네이버 블로그</a>\n",
       "</p>\n",
       "<p class=\"seminar\" id=\"weeks5\" title=\"fifth\"> 5주차\n",
       "        <span class=\"title\"> 상가 업력 분석하기 </span>\n",
       "<span class=\"presenter\"> 장남수 </span>\n",
       "<span class=\"date\"> 1월5일 </span>\n",
       "<span class=\"point\"> 공공데이터 분석 </span>\n",
       "<a href=\"https://kiddwannabe.blog.me/\">네이버 블로그</a>\n",
       "</p>\n",
       "<p class=\"seminar\" id=\"weeks6\" title=\"sixth\"> 6주차\n",
       "        <span class=\"title\"> 데이터 시각화 </span>\n",
       "<span class=\"presenter\"> 장남수 </span>\n",
       "<span class=\"date\"> 1월6일 </span>\n",
       "<span class=\"point\"> seaborn </span>\n",
       "<a href=\"https://kiddwannabe.blog.me/221728411362\">네이버 블로그-seaborn</a>\n",
       "</p>\n",
       "<p class=\"seminar\" id=\"weeks7\" title=\"seventh\"> 7주차\n",
       "        <span class=\"title\"> 네이버 쇼핑몰 수집/분석 </span>\n",
       "<span class=\"presenter\"> 장남수 </span>\n",
       "<span class=\"date\"> 1월7일 </span>\n",
       "<span class=\"point\"> youtube </span>\n",
       "<a href=\"https://kiddwannabe.blog.me/\">네이버 블로그</a>\n",
       "</p>\n"
      ]
     },
     "execution_count": 14,
     "metadata": {},
     "output_type": "execute_result"
    }
   ],
   "source": [
    "soup = BeautifulSoup(html, 'html.parser') #데이터 파싱, html 기준으로 파싱할 경우 html.parser / xml 사용 시 lxml\n",
    "soup"
   ]
  },
  {
   "cell_type": "code",
   "execution_count": 25,
   "metadata": {},
   "outputs": [
    {
     "data": {
      "text/plain": [
       "[<a href=\"https://kiddwannabe.blog.me/221154599192\">네이버 블로그-아나콘다설치</a>,\n",
       " <a href=\"https://kiddwannabe.blog.me/221177292446\">네이버 블로그-크롤링</a>,\n",
       " <a href=\"https://kiddwannabe.blog.me/\">네이버 블로그</a>,\n",
       " <a href=\"https://kiddwannabe.blog.me/\">네이버 블로그</a>,\n",
       " <a href=\"https://kiddwannabe.blog.me/\">네이버 블로그</a>,\n",
       " <a href=\"https://kiddwannabe.blog.me/221728411362\">네이버 블로그-seaborn</a>,\n",
       " <a href=\"https://kiddwannabe.blog.me/\">네이버 블로그</a>]"
      ]
     },
     "execution_count": 25,
     "metadata": {},
     "output_type": "execute_result"
    }
   ],
   "source": [
    "#soup.select('태그 조건')\n",
    "#soup.select('태그명')\n",
    "soup.select('a')"
   ]
  },
  {
   "cell_type": "code",
   "execution_count": 29,
   "metadata": {},
   "outputs": [
    {
     "data": {
      "text/plain": [
       "<a href=\"https://kiddwannabe.blog.me/221177292446\">네이버 블로그-크롤링</a>"
      ]
     },
     "execution_count": 29,
     "metadata": {},
     "output_type": "execute_result"
    }
   ],
   "source": [
    "soup.select('a')[1] # -> 인덱스 번호를 이용해서 태그 하나 지정"
   ]
  },
  {
   "cell_type": "code",
   "execution_count": 33,
   "metadata": {},
   "outputs": [
    {
     "data": {
      "text/plain": [
       "'네이버 블로그-크롤링'"
      ]
     },
     "execution_count": 33,
     "metadata": {},
     "output_type": "execute_result"
    }
   ],
   "source": [
    "# tag.text 시 양쪽 제거 제거 후 화면에 보이는 내용만 가져옴\n",
    "soup.select('a')[1].text"
   ]
  },
  {
   "cell_type": "code",
   "execution_count": 35,
   "metadata": {},
   "outputs": [
    {
     "name": "stdout",
     "output_type": "stream",
     "text": [
      "네이버 블로그-아나콘다설치\n",
      "네이버 블로그-크롤링\n",
      "네이버 블로그\n",
      "네이버 블로그\n",
      "네이버 블로그\n",
      "네이버 블로그-seaborn\n",
      "네이버 블로그\n"
     ]
    }
   ],
   "source": [
    "#for문을 통해 a태그의 모든 text 가져오기\n",
    "for tag in soup.select('a'):\n",
    "    print(tag.text)"
   ]
  },
  {
   "cell_type": "code",
   "execution_count": 36,
   "metadata": {},
   "outputs": [
    {
     "data": {
      "text/plain": [
       "[<span> 파이썬 입문부터 시작하는 데이터 분석 마스터</span>,\n",
       " <span class=\"title\"> 파이썬 맛보기 </span>,\n",
       " <span class=\"presenter\"> 장남수 </span>,\n",
       " <span class=\"date\"> 1월1일 </span>,\n",
       " <span class=\"point\"> 파이썬 설치 사전 안내 </span>,\n",
       " <span class=\"title\"> 크롤링 해보기 </span>,\n",
       " <span class=\"presenter\"> 장남수 </span>,\n",
       " <span class=\"date\"> 1월2일 </span>,\n",
       " <span class=\"point\"> selenium / html </span>,\n",
       " <span class=\"title\"> 크롤링 실습 </span>,\n",
       " <span class=\"presenter\"> 장남수 </span>,\n",
       " <span class=\"date\"> 1월3일 </span>,\n",
       " <span class=\"point\"> 노래순위, 베스트셀러 </span>,\n",
       " <span class=\"title\"> 판다스 살펴보기 </span>,\n",
       " <span class=\"presenter\"> 장남수 </span>,\n",
       " <span class=\"date\"> 1월4일 </span>,\n",
       " <span class=\"point\"> pandas </span>,\n",
       " <span class=\"title\"> 상가 업력 분석하기 </span>,\n",
       " <span class=\"presenter\"> 장남수 </span>,\n",
       " <span class=\"date\"> 1월5일 </span>,\n",
       " <span class=\"point\"> 공공데이터 분석 </span>,\n",
       " <span class=\"title\"> 데이터 시각화 </span>,\n",
       " <span class=\"presenter\"> 장남수 </span>,\n",
       " <span class=\"date\"> 1월6일 </span>,\n",
       " <span class=\"point\"> seaborn </span>,\n",
       " <span class=\"title\"> 네이버 쇼핑몰 수집/분석 </span>,\n",
       " <span class=\"presenter\"> 장남수 </span>,\n",
       " <span class=\"date\"> 1월7일 </span>,\n",
       " <span class=\"point\"> youtube </span>]"
      ]
     },
     "execution_count": 36,
     "metadata": {},
     "output_type": "execute_result"
    }
   ],
   "source": [
    "#태그명 span 찾기\n",
    "soup.select('span')"
   ]
  },
  {
   "cell_type": "code",
   "execution_count": 38,
   "metadata": {},
   "outputs": [
    {
     "data": {
      "text/plain": [
       "[<span class=\"title\"> 파이썬 맛보기 </span>,\n",
       " <span class=\"title\"> 크롤링 해보기 </span>,\n",
       " <span class=\"title\"> 크롤링 실습 </span>,\n",
       " <span class=\"title\"> 판다스 살펴보기 </span>,\n",
       " <span class=\"title\"> 상가 업력 분석하기 </span>,\n",
       " <span class=\"title\"> 데이터 시각화 </span>,\n",
       " <span class=\"title\"> 네이버 쇼핑몰 수집/분석 </span>]"
      ]
     },
     "execution_count": 38,
     "metadata": {},
     "output_type": "execute_result"
    }
   ],
   "source": [
    "#span 중 class라는 속성의 값이 title인 것만 읽기\n",
    "#soup.select('태그 조건')\n",
    "#soup.select('태그명')\n",
    "#soup.select('.class속석명') #특정 속성값만 가져오기\n",
    "#soup.select('태그명.속성명') #특정 태그명의 속성값만 가져오기\n",
    "soup.select('.title')"
   ]
  },
  {
   "cell_type": "code",
   "execution_count": 44,
   "metadata": {},
   "outputs": [
    {
     "data": {
      "text/plain": [
       "[<span class=\"title\"> 파이썬 맛보기 </span>,\n",
       " <span class=\"title\"> 크롤링 해보기 </span>,\n",
       " <span class=\"title\"> 크롤링 실습 </span>,\n",
       " <span class=\"title\"> 판다스 살펴보기 </span>,\n",
       " <span class=\"title\"> 상가 업력 분석하기 </span>,\n",
       " <span class=\"title\"> 데이터 시각화 </span>,\n",
       " <span class=\"title\"> 네이버 쇼핑몰 수집/분석 </span>]"
      ]
     },
     "execution_count": 44,
     "metadata": {},
     "output_type": "execute_result"
    }
   ],
   "source": [
    "#span 중 class라는 속성의 값이 title인 것만 읽기\n",
    "#soup.select('태그 조건')\n",
    "#soup.select('태그명')\n",
    "#soup.select('.class속성명') #특정 속성값만 가져오기\n",
    "#soup.select('태그명.속성명') #특정 태그명의 속성값만 가져오기\n",
    "soup.select('span.title')"
   ]
  },
  {
   "cell_type": "code",
   "execution_count": 50,
   "metadata": {},
   "outputs": [
    {
     "data": {
      "text/plain": [
       "[<p class=\"seminar\" id=\"weeks1\" title=\"first\"> 1주차\n",
       "         <span class=\"title\"> 파이썬 맛보기 </span>\n",
       " <span class=\"presenter\"> 장남수 </span>\n",
       " <span class=\"date\"> 1월1일 </span>\n",
       " <span class=\"point\"> 파이썬 설치 사전 안내 </span>\n",
       " <a href=\"https://kiddwannabe.blog.me/221154599192\">네이버 블로그-아나콘다설치</a>\n",
       " </p>]"
      ]
     },
     "execution_count": 50,
     "metadata": {},
     "output_type": "execute_result"
    }
   ],
   "source": [
    "#span 중 class라는 속성의 값이 title인 것만 읽기\n",
    "#soup.select('태그 조건')\n",
    "#soup.select('태그명')\n",
    "#soup.select('.class속석명') #특정 속성값만 가져오기\n",
    "#soup.select('태그명.속성명') #특정 태그명의 속성값만 가져오기\n",
    "#soup.select('#속성값') #id속성이 OO값인 것 찾기\n",
    "#1주차의 span title만 가져오기\n",
    "soup.select('#weeks1') "
   ]
  },
  {
   "cell_type": "code",
   "execution_count": 54,
   "metadata": {},
   "outputs": [
    {
     "data": {
      "text/plain": [
       "[<span class=\"title\"> 파이썬 맛보기 </span>]"
      ]
     },
     "execution_count": 54,
     "metadata": {},
     "output_type": "execute_result"
    }
   ],
   "source": [
    "# soup.select('상위태그정보 > 하위태그정보') #상위태크의 하위태그 다 찾기\n",
    "soup.select('#weeks1 > span.title')\n",
    "#id 속성값이 weeks1인 태그 바로 아래에 있는, 태그명이 span이면서 class속성값이 title인 것 다 찾기"
   ]
  },
  {
   "cell_type": "code",
   "execution_count": 73,
   "metadata": {},
   "outputs": [
    {
     "data": {
      "text/plain": [
       "7"
      ]
     },
     "execution_count": 73,
     "metadata": {},
     "output_type": "execute_result"
    }
   ],
   "source": [
    "#html 정보를 excel에 저장\n",
    "week_list = soup.select('p')\n",
    "len(week_list) # 실제 주차가 7갠데 7개 나왔으니 OK, 더 나올 경우 다른 정보를 더 기입해줘야 함"
   ]
  },
  {
   "cell_type": "code",
   "execution_count": 92,
   "metadata": {},
   "outputs": [
    {
     "data": {
      "text/plain": [
       "<p class=\"seminar\" id=\"weeks1\" title=\"first\"> 1주차\n",
       "        <span class=\"title\"> 파이썬 맛보기 </span>\n",
       "<span class=\"presenter\"> 장남수 </span>\n",
       "<span class=\"date\"> 1월1일 </span>\n",
       "<span class=\"point\"> 파이썬 설치 사전 안내 </span>\n",
       "<a href=\"https://kiddwannabe.blog.me/221154599192\">네이버 블로그-아나콘다설치</a>\n",
       "</p>"
      ]
     },
     "execution_count": 92,
     "metadata": {},
     "output_type": "execute_result"
    }
   ],
   "source": [
    "# 1주차 정보만 선택\n",
    "week = week_list[0]\n",
    "week #원래는 print를 사용해야 하지만, 귀찮으므로 가장 마지막 줄은 화면에 출력해주는 것을 이용하여 print 안씀"
   ]
  },
  {
   "cell_type": "code",
   "execution_count": 96,
   "metadata": {},
   "outputs": [
    {
     "name": "stdout",
     "output_type": "stream",
     "text": [
      " 파이썬 맛보기   장남수   1월1일   파이썬 설치 사전 안내  https://kiddwannabe.blog.me/221154599192\n"
     ]
    }
   ],
   "source": [
    "#정보(제목, 날짜 ,... 찾기)\n",
    "#title = week.select('span') #week 내에서 태그명이 span인 것을 찾기\n",
    "#위 조건 + class\n",
    "#select로 나온 조건은 무조건 list 형태이므로 인덱스 번호를 입력하여 원소를 지정하고 텍스트로 변환\n",
    "title = week.select('span.title')[0].text\n",
    "presenter = week.select('span.presenter')[0].text\n",
    "date = week.select('span.date')[0].text\n",
    "point = week.select('span.point')[0].text #week.select('.point')[0].text로 해도 무방\n",
    "# 상기 방법 => soup.select() => [태그1, 태그2,...] => 태그1 =>태그1.text\n",
    "# 하기 방법 => soup.select() => [태그1, 태그2,...] => 태그1 =>태그1['속성명'] #href속성의 값 가져오기\n",
    "link = week.select('a')[0]['href']\n",
    "print(title, presenter, date, point,link)"
   ]
  },
  {
   "cell_type": "code",
   "execution_count": 98,
   "metadata": {},
   "outputs": [
    {
     "name": "stdout",
     "output_type": "stream",
     "text": [
      " 파이썬 맛보기   장남수   1월1일   파이썬 설치 사전 안내  https://kiddwannabe.blog.me/221154599192\n",
      " 크롤링 해보기   장남수   1월2일   selenium / html  https://kiddwannabe.blog.me/221177292446\n",
      " 크롤링 실습   장남수   1월3일   노래순위, 베스트셀러  https://kiddwannabe.blog.me/\n",
      " 판다스 살펴보기   장남수   1월4일   pandas  https://kiddwannabe.blog.me/\n",
      " 상가 업력 분석하기   장남수   1월5일   공공데이터 분석  https://kiddwannabe.blog.me/\n",
      " 데이터 시각화   장남수   1월6일   seaborn  https://kiddwannabe.blog.me/221728411362\n",
      " 네이버 쇼핑몰 수집/분석   장남수   1월7일   youtube  https://kiddwannabe.blog.me/\n"
     ]
    }
   ],
   "source": [
    "#모든 주차의 정보를 for문으로 해서 가져오기\n",
    "for week in week_list:\n",
    "    title = week.select('span.title')[0].text\n",
    "    presenter = week.select('span.presenter')[0].text\n",
    "    date = week.select('span.date')[0].text\n",
    "    point = week.select('span.point')[0].text #week.select('.point')[0].text로 해도 무방\n",
    "    link = week.select('a')[0]['href']\n",
    "    print(title, presenter, date, point, link)\n",
    "    "
   ]
  },
  {
   "cell_type": "code",
   "execution_count": 104,
   "metadata": {},
   "outputs": [],
   "source": [
    "#list 형태로 내용 저장하기\n",
    "results = [ ] #빈 리스트 생성\n",
    "for week in week_list:\n",
    "    title = week.select('span.title')[0].text\n",
    "    presenter = week.select('span.presenter')[0].text\n",
    "    date = week.select('span.date')[0].text\n",
    "    point = week.select('span.point')[0].text #week.select('.point')[0].text로 해도 무방\n",
    "    link = week.select('a')[0]['href']\n",
    "    \n",
    "    data = [title, presenter, date, point, link]\n",
    "    results.append(data) "
   ]
  },
  {
   "cell_type": "code",
   "execution_count": 105,
   "metadata": {},
   "outputs": [
    {
     "data": {
      "text/plain": [
       "[[' 파이썬 맛보기 ',\n",
       "  ' 장남수 ',\n",
       "  ' 1월1일 ',\n",
       "  ' 파이썬 설치 사전 안내 ',\n",
       "  'https://kiddwannabe.blog.me/221154599192'],\n",
       " [' 크롤링 해보기 ',\n",
       "  ' 장남수 ',\n",
       "  ' 1월2일 ',\n",
       "  ' selenium / html ',\n",
       "  'https://kiddwannabe.blog.me/221177292446'],\n",
       " [' 크롤링 실습 ',\n",
       "  ' 장남수 ',\n",
       "  ' 1월3일 ',\n",
       "  ' 노래순위, 베스트셀러 ',\n",
       "  'https://kiddwannabe.blog.me/'],\n",
       " [' 판다스 살펴보기 ', ' 장남수 ', ' 1월4일 ', ' pandas ', 'https://kiddwannabe.blog.me/'],\n",
       " [' 상가 업력 분석하기 ',\n",
       "  ' 장남수 ',\n",
       "  ' 1월5일 ',\n",
       "  ' 공공데이터 분석 ',\n",
       "  'https://kiddwannabe.blog.me/'],\n",
       " [' 데이터 시각화 ',\n",
       "  ' 장남수 ',\n",
       "  ' 1월6일 ',\n",
       "  ' seaborn ',\n",
       "  'https://kiddwannabe.blog.me/221728411362'],\n",
       " [' 네이버 쇼핑몰 수집/분석 ',\n",
       "  ' 장남수 ',\n",
       "  ' 1월7일 ',\n",
       "  ' youtube ',\n",
       "  'https://kiddwannabe.blog.me/']]"
      ]
     },
     "execution_count": 105,
     "metadata": {},
     "output_type": "execute_result"
    }
   ],
   "source": [
    "results"
   ]
  },
  {
   "cell_type": "code",
   "execution_count": 111,
   "metadata": {},
   "outputs": [],
   "source": [
    "#데이터 가공을 위한 패키지 불러오기\n",
    "import pandas as pd"
   ]
  },
  {
   "cell_type": "code",
   "execution_count": 117,
   "metadata": {},
   "outputs": [
    {
     "name": "stdout",
     "output_type": "stream",
     "text": [
      "                주제     강사      일자               주요내용  \\\n",
      "0         파이썬 맛보기    장남수    1월1일       파이썬 설치 사전 안내    \n",
      "1         크롤링 해보기    장남수    1월2일    selenium / html    \n",
      "2          크롤링 실습    장남수    1월3일        노래순위, 베스트셀러    \n",
      "3        판다스 살펴보기    장남수    1월4일             pandas    \n",
      "4      상가 업력 분석하기    장남수    1월5일           공공데이터 분석    \n",
      "5         데이터 시각화    장남수    1월6일            seaborn    \n",
      "6   네이버 쇼핑몰 수집/분석    장남수    1월7일            youtube    \n",
      "\n",
      "                                         링크  \n",
      "0  https://kiddwannabe.blog.me/221154599192  \n",
      "1  https://kiddwannabe.blog.me/221177292446  \n",
      "2              https://kiddwannabe.blog.me/  \n",
      "3              https://kiddwannabe.blog.me/  \n",
      "4              https://kiddwannabe.blog.me/  \n",
      "5  https://kiddwannabe.blog.me/221728411362  \n",
      "6              https://kiddwannabe.blog.me/  \n"
     ]
    }
   ],
   "source": [
    "#리스트 형태를 표 형태로 전환\n",
    "df = pd.DataFrame(results) #D ,F 대문자\n",
    "df.columns = ['주제','강사','일자','주요내용','링크']\n",
    "print(df)\n",
    "\n",
    "#excel 파일로 저장\n",
    "df.to_excel('./test.xlsx')"
   ]
  }
 ],
 "metadata": {
  "kernelspec": {
   "display_name": "Python 3",
   "language": "python",
   "name": "python3"
  },
  "language_info": {
   "codemirror_mode": {
    "name": "ipython",
    "version": 3
   },
   "file_extension": ".py",
   "mimetype": "text/x-python",
   "name": "python",
   "nbconvert_exporter": "python",
   "pygments_lexer": "ipython3",
   "version": "3.8.3"
  }
 },
 "nbformat": 4,
 "nbformat_minor": 4
}
