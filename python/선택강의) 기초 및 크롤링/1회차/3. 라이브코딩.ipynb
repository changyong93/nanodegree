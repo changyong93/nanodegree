{
 "cells": [
  {
   "cell_type": "code",
   "execution_count": 1,
   "metadata": {},
   "outputs": [
    {
     "name": "stdout",
     "output_type": "stream",
     "text": [
      "송강호\n",
      "류승범\n",
      "이병헌\n",
      "김태리\n"
     ]
    }
   ],
   "source": [
    "movie_star = ['송강호',\"류승범\",'이병헌','김태리']\n",
    "\n",
    "print(movie_star[0])\n",
    "print(movie_star[1])\n",
    "print(movie_star[2])\n",
    "print(movie_star[3])"
   ]
  },
  {
   "cell_type": "code",
   "execution_count": 4,
   "metadata": {},
   "outputs": [
    {
     "name": "stdout",
     "output_type": "stream",
     "text": [
      "송강호\n",
      "송강호\n",
      "check1\n",
      "류승범\n",
      "류승범\n",
      "check1\n",
      "이병헌\n",
      "이병헌\n",
      "check1\n",
      "김태리\n",
      "김태리\n",
      "check1\n",
      "check2\n"
     ]
    }
   ],
   "source": [
    "#movie_star_list 하나씩 꺼내서 프린트\n",
    "#for 반복문 사용\n",
    "movie_star_list = ['송강호',\"류승범\",'이병헌','김태리']\n",
    "\n",
    "for movie_star in movie_star_list:\n",
    "    print(movie_star)\n",
    "    print(movie_star)\n",
    "    print('check1')\n",
    "    \n",
    "print('check2')"
   ]
  },
  {
   "cell_type": "markdown",
   "metadata": {},
   "source": [
    "# 조건문"
   ]
  },
  {
   "cell_type": "code",
   "execution_count": 16,
   "metadata": {},
   "outputs": [
    {
     "name": "stdout",
     "output_type": "stream",
     "text": [
      "3\n"
     ]
    }
   ],
   "source": [
    "n = 20\n",
    "\n",
    "if n<=0:\n",
    "    print(1)\n",
    "elif n <=10:\n",
    "    print(2)\n",
    "else:\n",
    "    print(3)"
   ]
  },
  {
   "cell_type": "code",
   "execution_count": 17,
   "metadata": {},
   "outputs": [
    {
     "data": {
      "text/plain": [
       "True"
      ]
     },
     "execution_count": 17,
     "metadata": {},
     "output_type": "execute_result"
    }
   ],
   "source": [
    "2 >=0\n",
    "2 < 0\n",
    "0 == 0\n",
    "name = \"고창용\"\n",
    "name in \"고창용학생\""
   ]
  },
  {
   "cell_type": "markdown",
   "metadata": {},
   "source": [
    "# 문자열"
   ]
  },
  {
   "cell_type": "code",
   "execution_count": 19,
   "metadata": {},
   "outputs": [
    {
     "name": "stdout",
     "output_type": "stream",
     "text": [
      "안녕하세요 name님. service서비스에 가입해주셔서 감사합니다\n"
     ]
    }
   ],
   "source": [
    "name = \"고창용\"\n",
    "service = \"진로상담\"\n",
    "\n",
    "msg = \"안녕하세요 name님. service서비스에 가입해주셔서 감사합니다\"\n",
    "print(msg)"
   ]
  },
  {
   "cell_type": "code",
   "execution_count": 20,
   "metadata": {},
   "outputs": [
    {
     "name": "stdout",
     "output_type": "stream",
     "text": [
      "안녕하세요 고창용님. 진로상담서비스에 가입해주셔서 감사합니다\n"
     ]
    }
   ],
   "source": [
    "#f-string # python 3.6이후 버전\n",
    "name = \"고창용\"\n",
    "service = \"진로상담\"\n",
    "\n",
    "msg = f\"안녕하세요 {name}님. {service}서비스에 가입해주셔서 감사합니다\"\n",
    "print(msg)"
   ]
  },
  {
   "cell_type": "code",
   "execution_count": 21,
   "metadata": {},
   "outputs": [
    {
     "name": "stdout",
     "output_type": "stream",
     "text": [
      "안녕하세요 고창용님. 진로상담서비스에 가입해주셔서 감사합니다\n"
     ]
    }
   ],
   "source": [
    "#string-f\n",
    "name = \"고창용\"\n",
    "service = \"진로상담\"\n",
    "\n",
    "msg = \"안녕하세요 {}님. {}서비스에 가입해주셔서 감사합니다\".format(name,service)\n",
    "print(msg)"
   ]
  },
  {
   "cell_type": "code",
   "execution_count": 23,
   "metadata": {},
   "outputs": [
    {
     "name": "stdout",
     "output_type": "stream",
     "text": [
      "안녕하세요 장남수님. 진로상담서비스에 가입해주셔서 감사합니다\n",
      "안녕하세요 고창용님. 진로상담서비스에 가입해주셔서 감사합니다\n"
     ]
    }
   ],
   "source": [
    "name_list = ['장남수', '고창용']\n",
    "for name in name_list:\n",
    "    service = '진로상담'\n",
    "    msg = \"안녕하세요 {}님. {}서비스에 가입해주셔서 감사합니다\".format(name,service)\n",
    "    print(msg)"
   ]
  },
  {
   "cell_type": "code",
   "execution_count": 29,
   "metadata": {},
   "outputs": [
    {
     "name": "stdout",
     "output_type": "stream",
     "text": [
      "\n",
      "\n",
      "태극기가 바람에 펄럭입니다. 하늘 높이 펄럭입니다\n",
      "태극기가 바람에 펄럭입니다. 하늘 높이 펄럭입니다\n",
      "\n",
      "\n",
      "태극기가 소리에 펄럭입니다. 하늘 높이 펄럭입니다\n",
      "태극기가 소리에 펄럭입니다. 하늘 높이 펄럭입니다\n"
     ]
    }
   ],
   "source": [
    "raw = \"\\n\\n태극기가 바람에 펄럭입니다. 하늘 높이 펄럭입니다\"\n",
    "print(raw)\n",
    "raw_strip = raw.strip()\n",
    "print(raw_strip)\n",
    "raw_replace = raw.replace(\"바람\", \"소리\")\n",
    "print(raw_replace)\n",
    "raw_f = raw.strip().replace(\"바람\", \"소리\")\n",
    "print(raw_f)"
   ]
  },
  {
   "cell_type": "code",
   "execution_count": 33,
   "metadata": {},
   "outputs": [
    {
     "name": "stdout",
     "output_type": "stream",
     "text": [
      "['미국', '한국', '일본', '중국']\n"
     ]
    }
   ],
   "source": [
    "raw = '미국/한국/일본/중국'\n",
    "raw_split = raw.split('/')\n",
    "print(raw_split)"
   ]
  },
  {
   "cell_type": "code",
   "execution_count": null,
   "metadata": {},
   "outputs": [],
   "source": []
  },
  {
   "cell_type": "code",
   "execution_count": null,
   "metadata": {},
   "outputs": [],
   "source": []
  },
  {
   "cell_type": "code",
   "execution_count": null,
   "metadata": {},
   "outputs": [],
   "source": []
  },
  {
   "cell_type": "code",
   "execution_count": null,
   "metadata": {},
   "outputs": [],
   "source": []
  },
  {
   "cell_type": "code",
   "execution_count": null,
   "metadata": {},
   "outputs": [],
   "source": []
  },
  {
   "cell_type": "code",
   "execution_count": null,
   "metadata": {},
   "outputs": [],
   "source": []
  },
  {
   "cell_type": "code",
   "execution_count": null,
   "metadata": {},
   "outputs": [],
   "source": []
  },
  {
   "cell_type": "code",
   "execution_count": null,
   "metadata": {},
   "outputs": [],
   "source": []
  },
  {
   "cell_type": "code",
   "execution_count": null,
   "metadata": {},
   "outputs": [],
   "source": []
  },
  {
   "cell_type": "code",
   "execution_count": null,
   "metadata": {},
   "outputs": [],
   "source": []
  },
  {
   "cell_type": "code",
   "execution_count": null,
   "metadata": {},
   "outputs": [],
   "source": []
  },
  {
   "cell_type": "code",
   "execution_count": null,
   "metadata": {},
   "outputs": [],
   "source": []
  }
 ],
 "metadata": {
  "kernelspec": {
   "display_name": "Python 3",
   "language": "python",
   "name": "python3"
  },
  "language_info": {
   "codemirror_mode": {
    "name": "ipython",
    "version": 3
   },
   "file_extension": ".py",
   "mimetype": "text/x-python",
   "name": "python",
   "nbconvert_exporter": "python",
   "pygments_lexer": "ipython3",
   "version": "3.8.3"
  }
 },
 "nbformat": 4,
 "nbformat_minor": 4
}
