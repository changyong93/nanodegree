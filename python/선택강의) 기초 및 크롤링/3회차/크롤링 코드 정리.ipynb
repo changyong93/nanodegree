{
 "cells": [
  {
   "cell_type": "code",
   "execution_count": 16,
   "metadata": {},
   "outputs": [],
   "source": [
    "from selenium import webdriver\n",
    "from bs4 import BeautifulSoup\n",
    "import pandas as pd\n",
    "import time\n",
    "import random # 수십회를 2초동안 쉴 경우 이 경우도 디도스로 판단할 수 있기 떄문에 랜덤하게 초를 부여하기 위해 랜덤 패키지 실행"
   ]
  },
  {
   "cell_type": "code",
   "execution_count": 3,
   "metadata": {},
   "outputs": [],
   "source": [
    "#크롬창 열기(최초 1회만 실행)\n",
    "browser = webdriver.Chrome(\"c:/r-selenium/chromedriver.exe\")"
   ]
  },
  {
   "cell_type": "code",
   "execution_count": 15,
   "metadata": {},
   "outputs": [
    {
     "name": "stdout",
     "output_type": "stream",
     "text": [
      "1 페이지 크롤링 완료 10.0%\n",
      "2 페이지 크롤링 완료 20.0%\n",
      "3 페이지 크롤링 완료 30.0%\n",
      "4 페이지 크롤링 완료 40.0%\n",
      "5 페이지 크롤링 완료 50.0%\n",
      "6 페이지 크롤링 완료 60.0%\n",
      "7 페이지 크롤링 완료 70.0%\n",
      "8 페이지 크롤링 완료 80.0%\n",
      "9 페이지 크롤링 완료 90.0%\n",
      "10 페이지 크롤링 완료 100.0%\n"
     ]
    }
   ],
   "source": [
    "results = []\n",
    "page_range = range(1,11)\n",
    "for page in page_range :\n",
    "    url = f'https://youtube-rank.com/board/bbs/board.php?bo_table=youtube&page={page}'\n",
    "    browser.get(url) #접속 후 조금 지연될 경우 wait 함수 추가\n",
    "#     time.sleep(2) #2초 쉬기\n",
    "    time.sleep(random.uniform(2,5)) #2~5초 사이 랜덤하게 쉬기\n",
    "    html = browser.page_source\n",
    "    soup = BeautifulSoup(html, 'html.parser')\n",
    "    channel_list = soup.select('form > table > tbody > tr')\n",
    "    for channel in channel_list:\n",
    "        category = channel.select('p.category')[0].text.strip()\n",
    "        title = channel.select('h1>a')[0].text.strip()\n",
    "        subscriber = channel.select('td.subscriber_cnt')[0].text\n",
    "        view = channel.select('td.view_cnt')[0].text\n",
    "        video = channel.select('td.video_cnt')[0].text\n",
    "        data = [title, category, subscriber, view, video]\n",
    "#         print(data)\n",
    "        results.append(data)\n",
    "    sentence = f'{page} 페이지 크롤링 완료 {page*100/len(page_range)}%'\n",
    "    print(sentence)\n",
    "#리스트 데이터를 데이터프레임으로 전환 후 엑셀로 저장\n",
    "df = pd.DataFrame(results)\n",
    "df.columns = ['채널명','카테고리','구독자수','조회수','영상수']\n",
    "filename = f'유튜브채널랭크_top{len(df)}.xlsx'\n",
    "df.to_excel(filename, index = False)"
   ]
  }
 ],
 "metadata": {
  "kernelspec": {
   "display_name": "Python 3",
   "language": "python",
   "name": "python3"
  },
  "language_info": {
   "codemirror_mode": {
    "name": "ipython",
    "version": 3
   },
   "file_extension": ".py",
   "mimetype": "text/x-python",
   "name": "python",
   "nbconvert_exporter": "python",
   "pygments_lexer": "ipython3",
   "version": "3.8.3"
  }
 },
 "nbformat": 4,
 "nbformat_minor": 4
}
